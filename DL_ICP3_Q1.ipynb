{
  "nbformat": 4,
  "nbformat_minor": 0,
  "metadata": {
    "colab": {
      "name": "DL_ICP3_Q1.ipynb",
      "provenance": [],
      "collapsed_sections": [],
      "toc_visible": true,
      "include_colab_link": true
    },
    "kernelspec": {
      "name": "python3",
      "display_name": "Python 3"
    }
  },
  "cells": [
    {
      "cell_type": "markdown",
      "metadata": {
        "id": "view-in-github",
        "colab_type": "text"
      },
      "source": [
        "<a href=\"https://colab.research.google.com/github/akhilkanugolu/DL_ICP3/blob/master/DL_ICP3_Q1.ipynb\" target=\"_parent\"><img src=\"https://colab.research.google.com/assets/colab-badge.svg\" alt=\"Open In Colab\"/></a>"
      ]
    },
    {
      "cell_type": "code",
      "metadata": {
        "id": "pfYDB7jwOI4V",
        "colab_type": "code",
        "outputId": "78c60996-4f71-47b1-fe14-298d973d8d8a",
        "colab": {
          "base_uri": "https://localhost:8080/",
          "height": 33
        }
      },
      "source": [
        "from keras.models import Sequential\n",
        "from keras import layers\n",
        "from keras.preprocessing.text import Tokenizer\n",
        "import pandas as pd\n",
        "from sklearn import preprocessing\n",
        "from sklearn.model_selection import train_test_split"
      ],
      "execution_count": 0,
      "outputs": [
        {
          "output_type": "stream",
          "text": [
            "Using TensorFlow backend.\n"
          ],
          "name": "stderr"
        }
      ]
    },
    {
      "cell_type": "code",
      "metadata": {
        "id": "bL2nhGDcOMyC",
        "colab_type": "code",
        "outputId": "10c97759-8470-4ee0-e72a-5cd6a82d09d0",
        "colab": {
          "base_uri": "https://localhost:8080/",
          "height": 150
        }
      },
      "source": [
        "df = pd.read_csv('imdb_master.csv',encoding='latin-1')\n",
        "print(df.head())\n"
      ],
      "execution_count": 0,
      "outputs": [
        {
          "output_type": "stream",
          "text": [
            "   Unnamed: 0  type  ... label         file\n",
            "0           0  test  ...   neg      0_2.txt\n",
            "1           1  test  ...   neg  10000_4.txt\n",
            "2           2  test  ...   neg  10001_1.txt\n",
            "3           3  test  ...   neg  10002_3.txt\n",
            "4           4  test  ...   neg  10003_3.txt\n",
            "\n",
            "[5 rows x 5 columns]\n"
          ],
          "name": "stdout"
        }
      ]
    },
    {
      "cell_type": "markdown",
      "metadata": {
        "id": "l28rOFsvQEM-",
        "colab_type": "text"
      },
      "source": [
        "# Dropping Unnecessary labelfrom dataset\n"
      ]
    },
    {
      "cell_type": "code",
      "metadata": {
        "id": "JKbWBvYzQDLs",
        "colab_type": "code",
        "colab": {}
      },
      "source": [
        "df = df[df['label']!='unsup']\n",
        "sentences = df['review'].values\n",
        "y = df['label'].values"
      ],
      "execution_count": 0,
      "outputs": []
    },
    {
      "cell_type": "markdown",
      "metadata": {
        "id": "FRH4mpUcOXU_",
        "colab_type": "text"
      },
      "source": [
        "#Tokenizing data"
      ]
    },
    {
      "cell_type": "code",
      "metadata": {
        "id": "A37lIFx7OS-q",
        "colab_type": "code",
        "colab": {}
      },
      "source": [
        "tokenizer = Tokenizer(num_words=2000)\n"
      ],
      "execution_count": 0,
      "outputs": []
    },
    {
      "cell_type": "markdown",
      "metadata": {
        "id": "CJdEwIRsOa4Z",
        "colab_type": "text"
      },
      "source": [
        "\n",
        "#Getting the vocabulary of data\n"
      ]
    },
    {
      "cell_type": "code",
      "metadata": {
        "id": "hXewXRljOfrD",
        "colab_type": "code",
        "colab": {}
      },
      "source": [
        "sentences = tokenizer.texts_to_matrix(sentences)"
      ],
      "execution_count": 0,
      "outputs": []
    },
    {
      "cell_type": "markdown",
      "metadata": {
        "id": "j8wlY_JdOr6F",
        "colab_type": "text"
      },
      "source": [
        "Label Encoder"
      ]
    },
    {
      "cell_type": "code",
      "metadata": {
        "id": "UxfIqZpEOoFn",
        "colab_type": "code",
        "colab": {}
      },
      "source": [
        "le = preprocessing.LabelEncoder()\n",
        "y = le.fit_transform(y)\n",
        "X_train, X_test, y_train, y_test = train_test_split(sentences, y, test_size=0.25, random_state=1000)"
      ],
      "execution_count": 0,
      "outputs": []
    },
    {
      "cell_type": "code",
      "metadata": {
        "id": "TRy4ThvcOwt3",
        "colab_type": "code",
        "outputId": "ef23ff77-3ac0-4e58-d9ad-a0be243c1c51",
        "colab": {
          "base_uri": "https://localhost:8080/",
          "height": 200
        }
      },
      "source": [
        "model = Sequential()\n",
        "model.add(layers.Dense(300,input_dim= 2000, activation='relu'))\n",
        "model.add(layers.Dense(2, activation='sigmoid')) #changing number of neuron to 2 as we have only two labels Pos and Neg\n",
        "model.compile(loss='sparse_categorical_crossentropy',optimizer='adam',metrics=['acc'])\n",
        "history=model.fit(X_train,y_train, epochs=5, verbose=True, validation_data=(X_test,y_test), batch_size=256)"
      ],
      "execution_count": 0,
      "outputs": [
        {
          "output_type": "stream",
          "text": [
            "Train on 37500 samples, validate on 12500 samples\n",
            "Epoch 1/5\n",
            "37500/37500 [==============================] - 4s 116us/step - loss: 0.6932 - acc: 0.4984 - val_loss: 0.6932 - val_acc: 0.4978\n",
            "Epoch 2/5\n",
            "37500/37500 [==============================] - 4s 107us/step - loss: 0.6932 - acc: 0.4984 - val_loss: 0.6932 - val_acc: 0.4978\n",
            "Epoch 3/5\n",
            "37500/37500 [==============================] - 4s 106us/step - loss: 0.6932 - acc: 0.5007 - val_loss: 0.6932 - val_acc: 0.4978\n",
            "Epoch 4/5\n",
            "37500/37500 [==============================] - 4s 107us/step - loss: 0.6932 - acc: 0.4961 - val_loss: 0.6931 - val_acc: 0.4978\n",
            "Epoch 5/5\n",
            "37500/37500 [==============================] - 4s 107us/step - loss: 0.6932 - acc: 0.4941 - val_loss: 0.6931 - val_acc: 0.5022\n"
          ],
          "name": "stdout"
        }
      ]
    },
    {
      "cell_type": "code",
      "metadata": {
        "id": "NFyGTw50Z3bf",
        "colab_type": "code",
        "outputId": "587a8e77-c1fc-4c9f-dc2f-00b9000e8a81",
        "colab": {
          "base_uri": "https://localhost:8080/",
          "height": 50
        }
      },
      "source": [
        "test_loss, test_acc = model.evaluate(X_test, y_test)\n",
        "print(test_acc)"
      ],
      "execution_count": 0,
      "outputs": [
        {
          "output_type": "stream",
          "text": [
            "12500/12500 [==============================] - 1s 63us/step\n",
            "0.5021600127220154\n"
          ],
          "name": "stdout"
        }
      ]
    }
  ]
}