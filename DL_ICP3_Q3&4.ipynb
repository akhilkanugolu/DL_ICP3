{
  "nbformat": 4,
  "nbformat_minor": 0,
  "metadata": {
    "colab": {
      "name": "DL_ICP3_Q3&4.ipynb",
      "provenance": [],
      "include_colab_link": true
    },
    "kernelspec": {
      "name": "python3",
      "display_name": "Python 3"
    }
  },
  "cells": [
    {
      "cell_type": "markdown",
      "metadata": {
        "id": "view-in-github",
        "colab_type": "text"
      },
      "source": [
        "<a href=\"https://colab.research.google.com/github/akhilkanugolu/DL_ICP3/blob/master/DL_ICP3_Q3%264.ipynb\" target=\"_parent\"><img src=\"https://colab.research.google.com/assets/colab-badge.svg\" alt=\"Open In Colab\"/></a>"
      ]
    },
    {
      "cell_type": "code",
      "metadata": {
        "id": "GRCvfqdEQ5Pa",
        "colab_type": "code",
        "outputId": "6afe10ed-a3f1-41c4-e920-fbfc0c012d83",
        "colab": {
          "base_uri": "https://localhost:8080/",
          "height": 33
        }
      },
      "source": [
        "from keras.models import Sequential\n",
        "from keras import layers\n",
        "from keras.preprocessing.text import Tokenizer\n",
        "import pandas as pd\n",
        "from sklearn import preprocessing\n",
        "from sklearn.datasets import fetch_20newsgroups\n",
        "from sklearn.model_selection import train_test_split\n",
        "from keras.preprocessing.sequence import pad_sequences\n",
        "from keras.layers import Embedding, Flatten\n",
        "import matplotlib.pyplot as plt\n"
      ],
      "execution_count": 0,
      "outputs": [
        {
          "output_type": "stream",
          "text": [
            "Using TensorFlow backend.\n"
          ],
          "name": "stderr"
        }
      ]
    },
    {
      "cell_type": "code",
      "metadata": {
        "id": "TJoNyVFEQ5wD",
        "colab_type": "code",
        "outputId": "7a64ba00-f256-4163-c535-38e2fc855cde",
        "colab": {
          "base_uri": "https://localhost:8080/",
          "height": 50
        }
      },
      "source": [
        "cats = ['alt.atheism', 'sci.space']\n",
        "df = fetch_20newsgroups(subset='train', shuffle=True, categories=cats)\n",
        "sentences=df.data\n",
        "y=df.target"
      ],
      "execution_count": 0,
      "outputs": [
        {
          "output_type": "stream",
          "text": [
            "Downloading 20news dataset. This may take a few minutes.\n",
            "Downloading dataset from https://ndownloader.figshare.com/files/5975967 (14 MB)\n"
          ],
          "name": "stderr"
        }
      ]
    },
    {
      "cell_type": "code",
      "metadata": {
        "id": "WoDZ9OX_REeG",
        "colab_type": "code",
        "colab": {}
      },
      "source": [
        "le = preprocessing.LabelEncoder()\n",
        "y = le.fit_transform(y)"
      ],
      "execution_count": 0,
      "outputs": []
    },
    {
      "cell_type": "code",
      "metadata": {
        "id": "8wfA7zlbRGva",
        "colab_type": "code",
        "colab": {}
      },
      "source": [
        "#tokenizing data\n",
        "tokenizer = Tokenizer(num_words=2000)\n",
        "tokenizer.fit_on_texts(sentences)\n",
        "max_review_len = max([len(s.split()) for s in sentences])\n",
        "vocab_size = len(tokenizer.word_index)+1\n",
        "X_train, X_test, y_train, y_test = train_test_split(sentences, y, test_size=0.25, random_state=1000)\n",
        "X_train_tokens = tokenizer.texts_to_sequences(X_train)\n",
        "X_test_tokens = tokenizer.texts_to_sequences(X_test)\n",
        "padded_train = pad_sequences(X_train_tokens,maxlen=max_review_len)\n",
        "paded_test = pad_sequences(X_test_tokens,maxlen=max_review_len)"
      ],
      "execution_count": 0,
      "outputs": []
    },
    {
      "cell_type": "code",
      "metadata": {
        "id": "UcveeysNRLLR",
        "colab_type": "code",
        "outputId": "d898751f-c761-4d7d-e3bd-23e90b0f8a2f",
        "colab": {
          "base_uri": "https://localhost:8080/",
          "height": 253
        }
      },
      "source": [
        "model = Sequential()\n",
        "model.add(Embedding(vocab_size, 50, input_length=max_review_len))\n",
        "model.add(Flatten())\n",
        "model.add(layers.Dense(300, activation='relu'))\n",
        "model.add(layers.Dense(1, activation='sigmoid')) #changing number of neuron to 2 as we have only two labels Pos and Neg\n",
        "model.compile(loss='binary_crossentropy',optimizer='adam',metrics=['acc'])\n",
        "history=model.fit(padded_train,y_train, epochs=5, verbose=True, validation_data=(paded_test,y_test), batch_size=256)"
      ],
      "execution_count": 5,
      "outputs": [
        {
          "output_type": "stream",
          "text": [
            "/usr/local/lib/python3.6/dist-packages/tensorflow/python/framework/indexed_slices.py:434: UserWarning: Converting sparse IndexedSlices to a dense Tensor of unknown shape. This may consume a large amount of memory.\n",
            "  \"Converting sparse IndexedSlices to a dense Tensor of unknown shape. \"\n"
          ],
          "name": "stderr"
        },
        {
          "output_type": "stream",
          "text": [
            "Train on 804 samples, validate on 269 samples\n",
            "Epoch 1/5\n",
            "804/804 [==============================] - 22s 27ms/step - loss: 9.7127 - acc: 0.4900 - val_loss: 8.9724 - val_acc: 0.4089\n",
            "Epoch 2/5\n",
            "804/804 [==============================] - 19s 24ms/step - loss: 6.2578 - acc: 0.4826 - val_loss: 4.6029 - val_acc: 0.5911\n",
            "Epoch 3/5\n",
            "804/804 [==============================] - 19s 24ms/step - loss: 2.8424 - acc: 0.4950 - val_loss: 1.7501 - val_acc: 0.5948\n",
            "Epoch 4/5\n",
            "804/804 [==============================] - 19s 24ms/step - loss: 1.4287 - acc: 0.5473 - val_loss: 1.1237 - val_acc: 0.5948\n",
            "Epoch 5/5\n",
            "804/804 [==============================] - 19s 24ms/step - loss: 0.9630 - acc: 0.5647 - val_loss: 0.5792 - val_acc: 0.7435\n"
          ],
          "name": "stdout"
        }
      ]
    },
    {
      "cell_type": "code",
      "metadata": {
        "id": "iS8QWB4ZROeJ",
        "colab_type": "code",
        "colab": {
          "base_uri": "https://localhost:8080/",
          "height": 50
        },
        "outputId": "f6268f16-08d4-4b48-d8e9-72584b064b23"
      },
      "source": [
        "test_loss, test_acc = model.evaluate(paded_test, y_test)\n",
        "print(test_acc)"
      ],
      "execution_count": 6,
      "outputs": [
        {
          "output_type": "stream",
          "text": [
            "269/269 [==============================] - 2s 7ms/step\n",
            "0.74349445104599\n"
          ],
          "name": "stdout"
        }
      ]
    },
    {
      "cell_type": "code",
      "metadata": {
        "id": "j3GsqTNXXD09",
        "colab_type": "code",
        "colab": {
          "base_uri": "https://localhost:8080/",
          "height": 295
        },
        "outputId": "dfca105e-74eb-4aaa-91a4-23f80d2750c0"
      },
      "source": [
        "plt.plot(history.history['acc'])\n",
        "plt.plot(history.history['val_acc'])\n",
        "plt.title('model accuracy')\n",
        "plt.ylabel('accuracy')\n",
        "plt.xlabel('epoch')\n",
        "plt.legend(['train', 'test'], loc='upper left')\n",
        "plt.show()"
      ],
      "execution_count": 7,
      "outputs": [
        {
          "output_type": "display_data",
          "data": {
            "image/png": "[encoded data removed]",
            "text/plain": [
              "<Figure size 432x288 with 1 Axes>"
            ]
          },
          "metadata": {
            "tags": [],
            "needs_background": "light"
          }
        }
      ]
    },
    {
      "cell_type": "code",
      "metadata": {
        "id": "-A6c8qy6XH1V",
        "colab_type": "code",
        "colab": {
          "base_uri": "https://localhost:8080/",
          "height": 295
        },
        "outputId": "11e66488-3c10-456b-b148-5b1cb23bef10"
      },
      "source": [
        "plt.plot(history.history['loss'])\n",
        "plt.plot(history.history['val_loss'])\n",
        "plt.title('model loss')\n",
        "plt.ylabel('loss')\n",
        "plt.xlabel('epoch')\n",
        "plt.legend(['train', 'test'], loc='upper left')\n",
        "plt.show()"
      ],
      "execution_count": 8,
      "outputs": [
        {
          "output_type": "display_data",
          "data": {
            "image/png": "[encoded data removed]",
            "text/plain": [
              "<Figure size 432x288 with 1 Axes>"
            ]
          },
          "metadata": {
            "tags": [],
            "needs_background": "light"
          }
        }
      ]
    }
  ]
}